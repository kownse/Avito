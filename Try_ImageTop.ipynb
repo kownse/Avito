{
 "cells": [
  {
   "cell_type": "code",
   "execution_count": 1,
   "metadata": {},
   "outputs": [],
   "source": [
    "import pandas as pd"
   ]
  },
  {
   "cell_type": "code",
   "execution_count": 32,
   "metadata": {},
   "outputs": [],
   "source": [
    "test = pd.read_csv('../input/test.csv', index_col = \"item_id\")\n",
    "train = pd.read_csv('../input/train.csv', index_col = \"item_id\")"
   ]
  },
  {
   "cell_type": "code",
   "execution_count": 33,
   "metadata": {},
   "outputs": [],
   "source": [
    "testdex = test.index\n",
    "traindex = train.index"
   ]
  },
  {
   "cell_type": "code",
   "execution_count": 34,
   "metadata": {},
   "outputs": [
    {
     "name": "stderr",
     "output_type": "stream",
     "text": [
      "/home/kownse/anaconda3/lib/python3.6/site-packages/ipykernel_launcher.py:1: FutureWarning: Sorting because non-concatenation axis is not aligned. A future version\n",
      "of pandas will change to not sort by default.\n",
      "\n",
      "To accept the future behavior, pass 'sort=True'.\n",
      "\n",
      "To retain the current behavior and silence the warning, pass sort=False\n",
      "\n",
      "  \"\"\"Entry point for launching an IPython kernel.\n"
     ]
    }
   ],
   "source": [
    "df = pd.concat([test, train], axis=0)"
   ]
  },
  {
   "cell_type": "code",
   "execution_count": 37,
   "metadata": {},
   "outputs": [],
   "source": [
    "imgtop = pd.read_csv('../input/advance_imgtop.csv').set_index('item_id')"
   ]
  },
  {
   "cell_type": "code",
   "execution_count": 35,
   "metadata": {},
   "outputs": [],
   "source": [
    "nan_indices = df[pd.isnull(df['image_top_1'])].index"
   ]
  },
  {
   "cell_type": "code",
   "execution_count": 38,
   "metadata": {},
   "outputs": [],
   "source": [
    "df.loc[nan_indices, 'image_top_1'] = imgtop.image_top_1"
   ]
  },
  {
   "cell_type": "code",
   "execution_count": 40,
   "metadata": {},
   "outputs": [],
   "source": [
    "df.loc[testdex].to_csv('../input/imgtop_test.csv')"
   ]
  },
  {
   "cell_type": "code",
   "execution_count": 43,
   "metadata": {},
   "outputs": [],
   "source": [
    "df.loc[traindex].to_csv('../input/imgtop_train.csv')"
   ]
  },
  {
   "cell_type": "code",
   "execution_count": 39,
   "metadata": {},
   "outputs": [
    {
     "data": {
      "text/plain": [
       "19980"
      ]
     },
     "execution_count": 39,
     "metadata": {},
     "output_type": "execute_result"
    }
   ],
   "source": [
    "df.image_top_1.isnull().sum()"
   ]
  },
  {
   "cell_type": "code",
   "execution_count": 41,
   "metadata": {},
   "outputs": [],
   "source": [
    "imgtest = pd.read_csv('../input/imgtop_test.csv')"
   ]
  },
  {
   "cell_type": "code",
   "execution_count": 42,
   "metadata": {},
   "outputs": [
    {
     "data": {
      "text/html": [
       "<div>\n",
       "<style scoped>\n",
       "    .dataframe tbody tr th:only-of-type {\n",
       "        vertical-align: middle;\n",
       "    }\n",
       "\n",
       "    .dataframe tbody tr th {\n",
       "        vertical-align: top;\n",
       "    }\n",
       "\n",
       "    .dataframe thead th {\n",
       "        text-align: right;\n",
       "    }\n",
       "</style>\n",
       "<table border=\"1\" class=\"dataframe\">\n",
       "  <thead>\n",
       "    <tr style=\"text-align: right;\">\n",
       "      <th></th>\n",
       "      <th>item_id</th>\n",
       "      <th>activation_date</th>\n",
       "      <th>category_name</th>\n",
       "      <th>city</th>\n",
       "      <th>deal_probability</th>\n",
       "      <th>description</th>\n",
       "      <th>image</th>\n",
       "      <th>image_top_1</th>\n",
       "      <th>item_seq_number</th>\n",
       "      <th>param_1</th>\n",
       "      <th>param_2</th>\n",
       "      <th>param_3</th>\n",
       "      <th>parent_category_name</th>\n",
       "      <th>price</th>\n",
       "      <th>region</th>\n",
       "      <th>title</th>\n",
       "      <th>user_id</th>\n",
       "      <th>user_type</th>\n",
       "    </tr>\n",
       "  </thead>\n",
       "  <tbody>\n",
       "    <tr>\n",
       "      <th>0</th>\n",
       "      <td>6544e41a8817</td>\n",
       "      <td>2017-04-18</td>\n",
       "      <td>Детская одежда и обувь</td>\n",
       "      <td>Волгоград</td>\n",
       "      <td>NaN</td>\n",
       "      <td>На ангарском</td>\n",
       "      <td>a8b57acb5ab304f9c331ac7a074219aed4d349d8aef386...</td>\n",
       "      <td>2020.0</td>\n",
       "      <td>66</td>\n",
       "      <td>Для мальчиков</td>\n",
       "      <td>Обувь</td>\n",
       "      <td>25</td>\n",
       "      <td>Личные вещи</td>\n",
       "      <td>NaN</td>\n",
       "      <td>Волгоградская область</td>\n",
       "      <td>Отдам бесплатно</td>\n",
       "      <td>dbe73ad6e4b5</td>\n",
       "      <td>Private</td>\n",
       "    </tr>\n",
       "    <tr>\n",
       "      <th>1</th>\n",
       "      <td>65b9484d670f</td>\n",
       "      <td>2017-04-16</td>\n",
       "      <td>Велосипеды</td>\n",
       "      <td>Нижняя Тура</td>\n",
       "      <td>NaN</td>\n",
       "      <td>Продам велосипед KAMA  F200,в нормальном состо...</td>\n",
       "      <td>NaN</td>\n",
       "      <td>2325.0</td>\n",
       "      <td>4</td>\n",
       "      <td>Дорожные</td>\n",
       "      <td>NaN</td>\n",
       "      <td>NaN</td>\n",
       "      <td>Хобби и отдых</td>\n",
       "      <td>3000.0</td>\n",
       "      <td>Свердловская область</td>\n",
       "      <td>Продам велосипед</td>\n",
       "      <td>2e11806abe57</td>\n",
       "      <td>Private</td>\n",
       "    </tr>\n",
       "    <tr>\n",
       "      <th>2</th>\n",
       "      <td>8bab230b2ecd</td>\n",
       "      <td>2017-04-17</td>\n",
       "      <td>Аудио и видео</td>\n",
       "      <td>Бердск</td>\n",
       "      <td>NaN</td>\n",
       "      <td>Продам новый телевизор BBK  32 диагональ смарт...</td>\n",
       "      <td>8c361112cb049745ef2d1b0ae73594fc5c107286b0c942...</td>\n",
       "      <td>2960.0</td>\n",
       "      <td>15</td>\n",
       "      <td>Телевизоры и проекторы</td>\n",
       "      <td>NaN</td>\n",
       "      <td>NaN</td>\n",
       "      <td>Бытовая электроника</td>\n",
       "      <td>15000.0</td>\n",
       "      <td>Новосибирская область</td>\n",
       "      <td>BBK</td>\n",
       "      <td>0b850bbebb10</td>\n",
       "      <td>Private</td>\n",
       "    </tr>\n",
       "    <tr>\n",
       "      <th>3</th>\n",
       "      <td>8e348601fefc</td>\n",
       "      <td>2017-04-17</td>\n",
       "      <td>Бытовая техника</td>\n",
       "      <td>Саратов</td>\n",
       "      <td>NaN</td>\n",
       "      <td>Продам новую вытяжку в упаковке,с документами....</td>\n",
       "      <td>NaN</td>\n",
       "      <td>1817.0</td>\n",
       "      <td>70</td>\n",
       "      <td>Для кухни</td>\n",
       "      <td>Вытяжки</td>\n",
       "      <td>NaN</td>\n",
       "      <td>Для дома и дачи</td>\n",
       "      <td>4500.0</td>\n",
       "      <td>Саратовская область</td>\n",
       "      <td>Вытяжка Jetair 60</td>\n",
       "      <td>5f1d5c3ce0da</td>\n",
       "      <td>Private</td>\n",
       "    </tr>\n",
       "    <tr>\n",
       "      <th>4</th>\n",
       "      <td>8bd2fe400b89</td>\n",
       "      <td>2017-04-15</td>\n",
       "      <td>Товары для детей и игрушки</td>\n",
       "      <td>Бузулук</td>\n",
       "      <td>NaN</td>\n",
       "      <td>Продам отличную коляску. б/у 1 год. все вопрос...</td>\n",
       "      <td>bc3cf6deef10840fc302e38eb48fa7748aa1e28d534f8f...</td>\n",
       "      <td>1002.0</td>\n",
       "      <td>15</td>\n",
       "      <td>Детские коляски</td>\n",
       "      <td>NaN</td>\n",
       "      <td>NaN</td>\n",
       "      <td>Личные вещи</td>\n",
       "      <td>4900.0</td>\n",
       "      <td>Оренбургская область</td>\n",
       "      <td>Коляска зима-лето</td>\n",
       "      <td>23e2d97bfc7f</td>\n",
       "      <td>Private</td>\n",
       "    </tr>\n",
       "  </tbody>\n",
       "</table>\n",
       "</div>"
      ],
      "text/plain": [
       "        item_id activation_date               category_name         city  \\\n",
       "0  6544e41a8817      2017-04-18      Детская одежда и обувь    Волгоград   \n",
       "1  65b9484d670f      2017-04-16                  Велосипеды  Нижняя Тура   \n",
       "2  8bab230b2ecd      2017-04-17               Аудио и видео       Бердск   \n",
       "3  8e348601fefc      2017-04-17             Бытовая техника      Саратов   \n",
       "4  8bd2fe400b89      2017-04-15  Товары для детей и игрушки      Бузулук   \n",
       "\n",
       "   deal_probability                                        description  \\\n",
       "0               NaN                                       На ангарском   \n",
       "1               NaN  Продам велосипед KAMA  F200,в нормальном состо...   \n",
       "2               NaN  Продам новый телевизор BBK  32 диагональ смарт...   \n",
       "3               NaN  Продам новую вытяжку в упаковке,с документами....   \n",
       "4               NaN  Продам отличную коляску. б/у 1 год. все вопрос...   \n",
       "\n",
       "                                               image  image_top_1  \\\n",
       "0  a8b57acb5ab304f9c331ac7a074219aed4d349d8aef386...       2020.0   \n",
       "1                                                NaN       2325.0   \n",
       "2  8c361112cb049745ef2d1b0ae73594fc5c107286b0c942...       2960.0   \n",
       "3                                                NaN       1817.0   \n",
       "4  bc3cf6deef10840fc302e38eb48fa7748aa1e28d534f8f...       1002.0   \n",
       "\n",
       "   item_seq_number                 param_1  param_2 param_3  \\\n",
       "0               66           Для мальчиков    Обувь      25   \n",
       "1                4                Дорожные      NaN     NaN   \n",
       "2               15  Телевизоры и проекторы      NaN     NaN   \n",
       "3               70               Для кухни  Вытяжки     NaN   \n",
       "4               15         Детские коляски      NaN     NaN   \n",
       "\n",
       "  parent_category_name    price                 region              title  \\\n",
       "0          Личные вещи      NaN  Волгоградская область    Отдам бесплатно   \n",
       "1        Хобби и отдых   3000.0   Свердловская область   Продам велосипед   \n",
       "2  Бытовая электроника  15000.0  Новосибирская область                BBK   \n",
       "3      Для дома и дачи   4500.0    Саратовская область  Вытяжка Jetair 60   \n",
       "4          Личные вещи   4900.0   Оренбургская область  Коляска зима-лето   \n",
       "\n",
       "        user_id user_type  \n",
       "0  dbe73ad6e4b5   Private  \n",
       "1  2e11806abe57   Private  \n",
       "2  0b850bbebb10   Private  \n",
       "3  5f1d5c3ce0da   Private  \n",
       "4  23e2d97bfc7f   Private  "
      ]
     },
     "execution_count": 42,
     "metadata": {},
     "output_type": "execute_result"
    }
   ],
   "source": [
    "imgtest.head()"
   ]
  },
  {
   "cell_type": "code",
   "execution_count": null,
   "metadata": {},
   "outputs": [],
   "source": []
  }
 ],
 "metadata": {
  "kernelspec": {
   "display_name": "Python 3",
   "language": "python",
   "name": "python3"
  },
  "language_info": {
   "codemirror_mode": {
    "name": "ipython",
    "version": 3
   },
   "file_extension": ".py",
   "mimetype": "text/x-python",
   "name": "python",
   "nbconvert_exporter": "python",
   "pygments_lexer": "ipython3",
   "version": "3.6.5"
  }
 },
 "nbformat": 4,
 "nbformat_minor": 2
}
