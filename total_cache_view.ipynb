{
 "cells": [
  {
   "cell_type": "code",
   "execution_count": 1,
   "metadata": {},
   "outputs": [],
   "source": [
    "%matplotlib inline\n",
    "\n",
    "import pandas as pd\n",
    "import parse_att\n",
    "import numpy as np\n",
    "import matplotlib.pyplot as plt"
   ]
  },
  {
   "cell_type": "code",
   "execution_count": 2,
   "metadata": {},
   "outputs": [],
   "source": [
    "#df = pd.read_csv('/media/extend/cache/total_0_1503424.csv')\n",
    "#df = pd.read_feather('/media/extend/cache/total_0_10000')\n",
    "train = pd.read_csv('../input/imgtop_train.csv', nrows=10000)"
   ]
  },
  {
   "cell_type": "code",
   "execution_count": 5,
   "metadata": {},
   "outputs": [
    {
     "data": {
      "text/plain": [
       "param_1\n",
       "ASUS                         6.583333e+03\n",
       "Alcatel                      2.929909e+03\n",
       "BQ                           1.524500e+03\n",
       "BlackBerry                   1.150000e+04\n",
       "DEXP                         2.500000e+03\n",
       "Explay                       1.550000e+03\n",
       "Fly                          2.199857e+03\n",
       "HTC                          9.825000e+03\n",
       "Highscreen                   9.966667e+02\n",
       "Huawei                       5.625000e+03\n",
       "IT, интернет, телеком        1.321429e+03\n",
       "LG                           3.822231e+03\n",
       "Lenovo                       4.980562e+03\n",
       "MP3-плееры                   1.341667e+03\n",
       "MTS                          1.566000e+03\n",
       "Meizu                        9.388000e+03\n",
       "Micromax                     2.250000e+03\n",
       "Microsoft                    4.263333e+03\n",
       "Motorola                     5.000000e+02\n",
       "Nokia                        2.203960e+03\n",
       "Philips                      3.150000e+03\n",
       "Prestigio                    5.000000e+03\n",
       "Samsung                      7.967680e+03\n",
       "Sony                         9.045562e+03\n",
       "Xiaomi                       1.224800e+04\n",
       "ZTE                          3.736000e+03\n",
       "iPhone                       1.475140e+04\n",
       "teXet                        1.500000e+03\n",
       "Автобусы                     2.675000e+05\n",
       "Автокраны                    1.150000e+06\n",
       "                                 ...     \n",
       "Товары для купания           3.735000e+02\n",
       "Товары для кухни             1.293800e+03\n",
       "Товары для школы             3.366667e+02\n",
       "Той-пудель                            NaN\n",
       "Той-терьер                   3.625000e+03\n",
       "Торговля                     1.475000e+05\n",
       "Транспорт, перевозки         1.893024e+03\n",
       "Туризм                       3.194778e+03\n",
       "Тягачи                       7.710000e+05\n",
       "Уборка                       5.000000e+02\n",
       "Ударные                      2.100000e+03\n",
       "Усилители и ресиверы         9.310000e+03\n",
       "Установка техники            7.825000e+04\n",
       "Уход за животными            1.425000e+03\n",
       "Учебная литература           4.504167e+02\n",
       "Фитнес и тренажёры           8.183894e+03\n",
       "Флэшки и карты памяти        5.466000e+02\n",
       "Фото- и видеосъёмка          4.033667e+03\n",
       "Французский бульдог          1.500000e+04\n",
       "Часы                         3.148485e+03\n",
       "Чихуахуа                     1.100000e+04\n",
       "Шарпей                                NaN\n",
       "Шкафы и комоды               8.327286e+03\n",
       "Шотландская                  2.575000e+03\n",
       "Шпиц                         1.000000e+04\n",
       "Экзотическая                 1.000000e+04\n",
       "Экскаваторы                  1.950000e+06\n",
       "Этикетки, бутылки, пробки    1.000000e+02\n",
       "Ювелирные изделия            1.224571e+04\n",
       "Ягдтерьер                    8.000000e+03\n",
       "Name: price, Length: 252, dtype: float64"
      ]
     },
     "execution_count": 5,
     "metadata": {},
     "output_type": "execute_result"
    }
   ],
   "source": [
    "train.groupby('param_1')['price'].agg('mean')"
   ]
  },
  {
   "cell_type": "code",
   "execution_count": 8,
   "metadata": {},
   "outputs": [
    {
     "data": {
      "text/plain": [
       "img_label\n",
       "0      -71.031393\n",
       "1      -53.418665\n",
       "2        7.679643\n",
       "3        7.575923\n",
       "4     -111.459174\n",
       "5     -245.975875\n",
       "6     -172.148850\n",
       "7     -406.822938\n",
       "8        6.649691\n",
       "9     -156.284603\n",
       "10       6.668100\n",
       "11       7.565333\n",
       "12     -93.848800\n",
       "13     -20.964259\n",
       "14    -159.175973\n",
       "15    -360.527288\n",
       "16    -106.950632\n",
       "17    -333.650850\n",
       "18    -259.564515\n",
       "19     -40.115760\n",
       "20     -99.023284\n",
       "21    -382.278158\n",
       "22    -246.517287\n",
       "23    -398.872934\n",
       "24    -304.125456\n",
       "25    -260.249568\n",
       "26    -144.963457\n",
       "27    -281.002863\n",
       "28    -137.606122\n",
       "29     -13.003699\n",
       "          ...    \n",
       "965    -62.040699\n",
       "966   -222.401265\n",
       "967    -60.964214\n",
       "968    -93.618500\n",
       "969   -229.365054\n",
       "970   -173.799714\n",
       "971    -37.321325\n",
       "972    -33.846945\n",
       "973      7.600000\n",
       "974   -304.202382\n",
       "975    -58.061243\n",
       "976    -99.096320\n",
       "977    -93.457625\n",
       "978    -46.879275\n",
       "979    -29.830854\n",
       "980      7.793455\n",
       "981   -276.923967\n",
       "982    -47.517836\n",
       "983      6.675857\n",
       "984   -206.452007\n",
       "985   -127.928177\n",
       "986    -29.469418\n",
       "987    -13.608806\n",
       "988   -108.666879\n",
       "989   -143.294246\n",
       "990    -67.486256\n",
       "991    -48.581679\n",
       "992    -80.778691\n",
       "993     -8.875360\n",
       "994    -38.698910\n",
       "Name: price, Length: 995, dtype: float64"
      ]
     },
     "execution_count": 8,
     "metadata": {},
     "output_type": "execute_result"
    }
   ],
   "source": [
    "df.groupby('img_label')['price'].agg('mean')"
   ]
  },
  {
   "cell_type": "code",
   "execution_count": 226,
   "metadata": {},
   "outputs": [
    {
     "name": "stdout",
     "output_type": "stream",
     "text": [
      "float32\n"
     ]
    },
    {
     "data": {
      "text/plain": [
       "<matplotlib.axes._subplots.AxesSubplot at 0x7f66ae14ef28>"
      ]
     },
     "execution_count": 226,
     "metadata": {},
     "output_type": "execute_result"
    },
    {
     "data": {
      "image/png": "[encoded data removed]",
      "text/plain": [
       "<matplotlib.figure.Figure at 0x7f66ae128208>"
      ]
     },
     "metadata": {},
     "output_type": "display_data"
    }
   ],
   "source": [
    "col = 'description_words_vs_unique'\n",
    "print(df[col].dtype)\n",
    "df[col].hist(bins=50)\n",
    "#plt.hist(np.log(df[col]))"
   ]
  },
  {
   "cell_type": "code",
   "execution_count": 221,
   "metadata": {},
   "outputs": [
    {
     "data": {
      "text/plain": [
       "21"
      ]
     },
     "execution_count": 221,
     "metadata": {},
     "output_type": "execute_result"
    }
   ],
   "source": [
    "df[col].max()"
   ]
  },
  {
   "cell_type": "code",
   "execution_count": 127,
   "metadata": {},
   "outputs": [],
   "source": [
    "selcols = ['parent_category_name', 'category_name', 'resnet_conf']\n",
    "how = 'zscore'\n",
    "by_cols = selcols[0:len(selcols)-1]\n",
    "tar_col = selcols[len(selcols)-1]\n",
    "att_name = '_'.join(selcols + [how])"
   ]
  },
  {
   "cell_type": "code",
   "execution_count": 122,
   "metadata": {},
   "outputs": [],
   "source": [
    "sub_df = df[selcols]"
   ]
  },
  {
   "cell_type": "code",
   "execution_count": 124,
   "metadata": {},
   "outputs": [],
   "source": [
    "gp = sub_df.groupby(by=by_cols)[tar_col].agg(['mean','var']).reset_index().\\\n",
    "                rename(index=str)"
   ]
  },
  {
   "cell_type": "code",
   "execution_count": 7,
   "metadata": {},
   "outputs": [],
   "source": [
    "gp = pd.read_feather('/media/extend/cache/region_city_parent_category_name_category_name_price_zscore[0,10000].feather')"
   ]
  },
  {
   "cell_type": "code",
   "execution_count": 8,
   "metadata": {},
   "outputs": [
    {
     "data": {
      "text/html": [
       "<div>\n",
       "<style scoped>\n",
       "    .dataframe tbody tr th:only-of-type {\n",
       "        vertical-align: middle;\n",
       "    }\n",
       "\n",
       "    .dataframe tbody tr th {\n",
       "        vertical-align: top;\n",
       "    }\n",
       "\n",
       "    .dataframe thead th {\n",
       "        text-align: right;\n",
       "    }\n",
       "</style>\n",
       "<table border=\"1\" class=\"dataframe\">\n",
       "  <thead>\n",
       "    <tr style=\"text-align: right;\">\n",
       "      <th></th>\n",
       "      <th>index</th>\n",
       "      <th>region</th>\n",
       "      <th>city</th>\n",
       "      <th>parent_category_name</th>\n",
       "      <th>category_name</th>\n",
       "      <th>mean</th>\n",
       "      <th>var</th>\n",
       "    </tr>\n",
       "  </thead>\n",
       "  <tbody>\n",
       "    <tr>\n",
       "      <th>0</th>\n",
       "      <td>0</td>\n",
       "      <td>0</td>\n",
       "      <td>13</td>\n",
       "      <td>0</td>\n",
       "      <td>44</td>\n",
       "      <td>6.327939</td>\n",
       "      <td>0.000100</td>\n",
       "    </tr>\n",
       "    <tr>\n",
       "      <th>1</th>\n",
       "      <td>1</td>\n",
       "      <td>0</td>\n",
       "      <td>13</td>\n",
       "      <td>4</td>\n",
       "      <td>10</td>\n",
       "      <td>5.010642</td>\n",
       "      <td>0.000000</td>\n",
       "    </tr>\n",
       "    <tr>\n",
       "      <th>2</th>\n",
       "      <td>2</td>\n",
       "      <td>0</td>\n",
       "      <td>13</td>\n",
       "      <td>4</td>\n",
       "      <td>29</td>\n",
       "      <td>6.449612</td>\n",
       "      <td>0.419793</td>\n",
       "    </tr>\n",
       "    <tr>\n",
       "      <th>3</th>\n",
       "      <td>3</td>\n",
       "      <td>0</td>\n",
       "      <td>13</td>\n",
       "      <td>5</td>\n",
       "      <td>13</td>\n",
       "      <td>-999.000000</td>\n",
       "      <td>0.000100</td>\n",
       "    </tr>\n",
       "    <tr>\n",
       "      <th>4</th>\n",
       "      <td>4</td>\n",
       "      <td>0</td>\n",
       "      <td>13</td>\n",
       "      <td>6</td>\n",
       "      <td>23</td>\n",
       "      <td>10.819778</td>\n",
       "      <td>0.000100</td>\n",
       "    </tr>\n",
       "  </tbody>\n",
       "</table>\n",
       "</div>"
      ],
      "text/plain": [
       "   index  region  city  parent_category_name  category_name        mean  \\\n",
       "0      0       0    13                     0             44    6.327939   \n",
       "1      1       0    13                     4             10    5.010642   \n",
       "2      2       0    13                     4             29    6.449612   \n",
       "3      3       0    13                     5             13 -999.000000   \n",
       "4      4       0    13                     6             23   10.819778   \n",
       "\n",
       "        var  \n",
       "0  0.000100  \n",
       "1  0.000000  \n",
       "2  0.419793  \n",
       "3  0.000100  \n",
       "4  0.000100  "
      ]
     },
     "execution_count": 8,
     "metadata": {},
     "output_type": "execute_result"
    }
   ],
   "source": [
    "gp.head()"
   ]
  },
  {
   "cell_type": "code",
   "execution_count": 182,
   "metadata": {},
   "outputs": [],
   "source": [
    "gp['var'].fillna(0.0001, inplace=True)"
   ]
  },
  {
   "cell_type": "code",
   "execution_count": 10,
   "metadata": {},
   "outputs": [],
   "source": [
    "dummy =pd.get_dummies(gp.category_name)"
   ]
  },
  {
   "cell_type": "code",
   "execution_count": 13,
   "metadata": {},
   "outputs": [
    {
     "data": {
      "text/plain": [
       "dtype('uint8')"
      ]
     },
     "execution_count": 13,
     "metadata": {},
     "output_type": "execute_result"
    }
   ],
   "source": [
    "dummy.iloc[0].dtype"
   ]
  },
  {
   "cell_type": "code",
   "execution_count": 1,
   "metadata": {},
   "outputs": [],
   "source": [
    "from catboost import Pool, CatBoostRegressor"
   ]
  },
  {
   "cell_type": "code",
   "execution_count": 2,
   "metadata": {},
   "outputs": [],
   "source": [
    "?xgb.train"
   ]
  },
  {
   "cell_type": "code",
   "execution_count": null,
   "metadata": {},
   "outputs": [],
   "source": []
  }
 ],
 "metadata": {
  "kernelspec": {
   "display_name": "Python 3",
   "language": "python",
   "name": "python3"
  },
  "language_info": {
   "codemirror_mode": {
    "name": "ipython",
    "version": 3
   },
   "file_extension": ".py",
   "mimetype": "text/x-python",
   "name": "python",
   "nbconvert_exporter": "python",
   "pygments_lexer": "ipython3",
   "version": "3.6.5"
  }
 },
 "nbformat": 4,
 "nbformat_minor": 2
}
