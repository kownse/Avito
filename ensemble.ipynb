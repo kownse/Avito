{
 "cells": [
  {
   "cell_type": "code",
   "execution_count": 15,
   "metadata": {},
   "outputs": [],
   "source": [
    "%matplotlib inline\n",
    "\n",
    "import kaggle_util\n",
    "import pandas as pd\n",
    "import numpy as np"
   ]
  },
  {
   "cell_type": "code",
   "execution_count": 30,
   "metadata": {},
   "outputs": [],
   "source": [
    "def ensemble_avito(result_list):\n",
    "    kaggle_util.ensemble(result_list, True, \n",
    "                         competition = 'avito-demand-prediction', \n",
    "                         score_col = 'deal_probability',\n",
    "                         prefix='mix_all')"
   ]
  },
  {
   "cell_type": "code",
   "execution_count": 31,
   "metadata": {},
   "outputs": [],
   "source": [
    "def ensemble_all():\n",
    "    result_list = [\n",
    "            #('lgb_avg_0.2201.csv', 0.4),\n",
    "            ('xgb_tfidf_0.2210.csv', 0.3),\n",
    "            #('rnn_0.2209.csv', 0.3),\n",
    "            #('xgb_tfidf_0.2210.csv', 0.25),\n",
    "            #('rnn_0.2209.csv', 0.25),\n",
    "            ('rnn_avg_0.2209.csv', 0.3),\n",
    "            #('base0_0.2211.csv', 0.15),\n",
    "            #('lgb_avg_0.2201.csv', 0.35),\n",
    "            ('lgb_avg_last.csv', 0.4),\n",
    "            ]\n",
    "    ensemble_avito(result_list)"
   ]
  },
  {
   "cell_type": "code",
   "execution_count": 4,
   "metadata": {},
   "outputs": [],
   "source": [
    "def ensemble_r():\n",
    "    nfold = 5\n",
    "    result_list = []\n",
    "    for i in range(1, (nfold+1)):\n",
    "        subfile = '../result/xgb_tfidf_{}.csv'.format(i)\n",
    "        result_list.append((subfile, 1 / nfold))\n",
    "    ensemble_avito(result_list)"
   ]
  },
  {
   "cell_type": "code",
   "execution_count": 5,
   "metadata": {},
   "outputs": [
    {
     "name": "stdout",
     "output_type": "stream",
     "text": [
      "score_col  deal_probability\n"
     ]
    },
    {
     "name": "stderr",
     "output_type": "stream",
     "text": [
      "100%|██████████| 4/4 [00:01<00:00,  2.79it/s]\n",
      "100%|██████████| 5/5 [00:00<00:00, 60.80it/s]\n"
     ]
    },
    {
     "name": "stdout",
     "output_type": "stream",
     "text": [
      "          p0        p1        p2        p3        p4\n",
      "p0  1.000000  0.965069  0.965066  0.965031  0.965752\n",
      "p1  0.965069  1.000000  0.964967  0.964769  0.965549\n",
      "p2  0.965066  0.964967  1.000000  0.964965  0.965558\n",
      "p3  0.965031  0.964769  0.964965  1.000000  0.965581\n",
      "p4  0.965752  0.965549  0.965558  0.965581  1.000000\n",
      "save result\n",
      "upload result\n",
      "cmd: /home/kownse/anaconda3/bin/kaggle competitions submit -c avito-demand-prediction -f ../result/ensemble_06-27-15-38.csv.7z -m \"submit\"\n"
     ]
    }
   ],
   "source": [
    "#ensemble_r()"
   ]
  },
  {
   "cell_type": "code",
   "execution_count": 32,
   "metadata": {},
   "outputs": [
    {
     "name": "stdout",
     "output_type": "stream",
     "text": [
      "score_col  deal_probability\n"
     ]
    },
    {
     "name": "stderr",
     "output_type": "stream",
     "text": [
      "100%|██████████| 2/2 [00:00<00:00,  3.38it/s]\n",
      "100%|██████████| 3/3 [00:00<00:00, 66.00it/s]\n"
     ]
    },
    {
     "name": "stdout",
     "output_type": "stream",
     "text": [
      "          p0        p1        p2\n",
      "p0  1.000000  0.930916  0.941373\n",
      "p1  0.930916  1.000000  0.945838\n",
      "p2  0.941373  0.945838  1.000000\n",
      "save result\n",
      "upload result\n",
      "cmd: /home/kownse/anaconda3/bin/kaggle competitions submit -c avito-demand-prediction -f ../result/mix_all_06-28-09-53.csv.7z -m \"submit\"\n"
     ]
    }
   ],
   "source": [
    "ensemble_all()"
   ]
  },
  {
   "cell_type": "code",
   "execution_count": 3,
   "metadata": {},
   "outputs": [],
   "source": [
    "regional = pd.read_csv('../input/regional.csv')"
   ]
  },
  {
   "cell_type": "code",
   "execution_count": 11,
   "metadata": {},
   "outputs": [],
   "source": [
    "regional.income = np.log(regional.income)"
   ]
  },
  {
   "cell_type": "code",
   "execution_count": 12,
   "metadata": {},
   "outputs": [
    {
     "data": {
      "text/plain": [
       "<matplotlib.axes._subplots.AxesSubplot at 0x7f2b2f86c860>"
      ]
     },
     "execution_count": 12,
     "metadata": {},
     "output_type": "execute_result"
    },
    {
     "data": {
      "image/png": "[encoded data removed]",
      "text/plain": [
       "<Figure size 432x288 with 1 Axes>"
      ]
     },
     "metadata": {},
     "output_type": "display_data"
    }
   ],
   "source": [
    "regional.income.hist(bins=50)"
   ]
  },
  {
   "cell_type": "code",
   "execution_count": 8,
   "metadata": {},
   "outputs": [],
   "source": [
    "def softmax(x):\n",
    "    return np.exp(x) / np.sum(np.exp(x), axis=0)"
   ]
  },
  {
   "cell_type": "code",
   "execution_count": 9,
   "metadata": {},
   "outputs": [
    {
     "data": {
      "text/plain": [
       "array([0.6037489 , 0.03005889, 0.36619222])"
      ]
     },
     "execution_count": 9,
     "metadata": {},
     "output_type": "execute_result"
    }
   ],
   "source": [
    "softmax([1, -2, 0.5])"
   ]
  },
  {
   "cell_type": "code",
   "execution_count": null,
   "metadata": {},
   "outputs": [],
   "source": []
  }
 ],
 "metadata": {
  "kernelspec": {
   "display_name": "Python 3",
   "language": "python",
   "name": "python3"
  },
  "language_info": {
   "codemirror_mode": {
    "name": "ipython",
    "version": 3
   },
   "file_extension": ".py",
   "mimetype": "text/x-python",
   "name": "python",
   "nbconvert_exporter": "python",
   "pygments_lexer": "ipython3",
   "version": "3.6.5"
  }
 },
 "nbformat": 4,
 "nbformat_minor": 2
}
