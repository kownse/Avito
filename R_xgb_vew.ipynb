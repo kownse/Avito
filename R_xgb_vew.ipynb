{
 "cells": [
  {
   "cell_type": "code",
   "execution_count": 1,
   "metadata": {},
   "outputs": [
    {
     "name": "stderr",
     "output_type": "stream",
     "text": [
      "Loading required package: tidyverse\n",
      "── Attaching packages ─────────────────────────────────────── tidyverse 1.2.1 ──\n",
      "✔ ggplot2 2.2.1     ✔ purrr   0.2.4\n",
      "✔ tibble  1.4.2     ✔ dplyr   0.7.4\n",
      "✔ tidyr   0.8.0     ✔ stringr 1.3.1\n",
      "✔ readr   1.1.1     ✔ forcats 0.3.0\n",
      "── Conflicts ────────────────────────────────────────── tidyverse_conflicts() ──\n",
      "✖ dplyr::filter() masks stats::filter()\n",
      "✖ dplyr::lag()    masks stats::lag()\n",
      "Loading required package: lubridate\n",
      "\n",
      "Attaching package: ‘lubridate’\n",
      "\n",
      "The following object is masked from ‘package:base’:\n",
      "\n",
      "    date\n",
      "\n",
      "Loading required package: magrittr\n",
      "\n",
      "Attaching package: ‘magrittr’\n",
      "\n",
      "The following object is masked from ‘package:purrr’:\n",
      "\n",
      "    set_names\n",
      "\n",
      "The following object is masked from ‘package:tidyr’:\n",
      "\n",
      "    extract\n",
      "\n",
      "Loading required package: text2vec\n",
      "Loading required package: tokenizers\n",
      "Loading required package: stopwords\n",
      "Loading required package: xgboost\n",
      "\n",
      "Attaching package: ‘xgboost’\n",
      "\n",
      "The following object is masked from ‘package:dplyr’:\n",
      "\n",
      "    slice\n",
      "\n",
      "Loading required package: Matrix\n",
      "\n",
      "Attaching package: ‘Matrix’\n",
      "\n",
      "The following object is masked from ‘package:tidyr’:\n",
      "\n",
      "    expand\n",
      "\n",
      "Loading required package: stringi\n",
      "\n",
      "Attaching package: ‘data.table’\n",
      "\n",
      "The following objects are masked from ‘package:lubridate’:\n",
      "\n",
      "    hour, isoweek, mday, minute, month, quarter, second, wday, week,\n",
      "    yday, year\n",
      "\n",
      "The following objects are masked from ‘package:dplyr’:\n",
      "\n",
      "    between, first, last\n",
      "\n",
      "The following object is masked from ‘package:purrr’:\n",
      "\n",
      "    transpose\n",
      "\n",
      "\n",
      "Attaching package: ‘pryr’\n",
      "\n",
      "The following object is masked from ‘package:data.table’:\n",
      "\n",
      "    address\n",
      "\n",
      "The following objects are masked from ‘package:purrr’:\n",
      "\n",
      "    compose, partial\n",
      "\n"
     ]
    }
   ],
   "source": [
    "require(tidyverse)\n",
    "require(lubridate)\n",
    "require(magrittr)\n",
    "require(text2vec)\n",
    "require(tokenizers)\n",
    "require(stopwords)\n",
    "require(xgboost)\n",
    "require(Matrix)\n",
    "require(stringr)\n",
    "require(stringi)\n",
    "require(forcats)\n",
    "require(dplyr)\n",
    "library(ade4)\n",
    "library(data.table)\n",
    "library(pryr)\n",
    "set.seed(0)"
   ]
  },
  {
   "cell_type": "code",
   "execution_count": 2,
   "metadata": {},
   "outputs": [],
   "source": [
    "?read_csv"
   ]
  },
  {
   "cell_type": "code",
   "execution_count": 57,
   "metadata": {
    "scrolled": true
   },
   "outputs": [
    {
     "name": "stdout",
     "output_type": "stream",
     "text": [
      "Loading data...\n"
     ]
    },
    {
     "name": "stderr",
     "output_type": "stream",
     "text": [
      "Parsed with column specification:\n",
      "cols(\n",
      "  .default = col_double(),\n",
      "  item_id = col_character(),\n",
      "  user_id = col_character(),\n",
      "  region = col_character(),\n",
      "  city = col_character(),\n",
      "  parent_category_name = col_character(),\n",
      "  category_name = col_character(),\n",
      "  param_1 = col_character(),\n",
      "  param_2 = col_character(),\n",
      "  param_3 = col_character(),\n",
      "  title = col_character(),\n",
      "  description = col_character(),\n",
      "  item_seq_number = col_integer(),\n",
      "  activation_date = col_date(format = \"\"),\n",
      "  user_type = col_character(),\n",
      "  image = col_character(),\n",
      "  reg_Time_zone = col_integer()\n",
      ")\n",
      "See spec(...) for full column specifications.\n"
     ]
    },
    {
     "data": {
      "text/html": [
       "<table>\n",
       "<thead><tr><th></th><th scope=col>used</th><th scope=col>(Mb)</th><th scope=col>gc trigger</th><th scope=col>(Mb)</th><th scope=col>max used</th><th scope=col>(Mb)</th></tr></thead>\n",
       "<tbody>\n",
       "\t<tr><th scope=row>Ncells</th><td>1511129</td><td>80.8   </td><td>2637877</td><td>140.9  </td><td>2637877</td><td>140.9  </td></tr>\n",
       "\t<tr><th scope=row>Vcells</th><td>2379382</td><td>18.2   </td><td>4701432</td><td> 35.9  </td><td>4701094</td><td> 35.9  </td></tr>\n",
       "</tbody>\n",
       "</table>\n"
      ],
      "text/latex": [
       "\\begin{tabular}{r|llllll}\n",
       "  & used & (Mb) & gc trigger & (Mb) & max used & (Mb)\\\\\n",
       "\\hline\n",
       "\tNcells & 1511129 & 80.8    & 2637877 & 140.9   & 2637877 & 140.9  \\\\\n",
       "\tVcells & 2379382 & 18.2    & 4701432 &  35.9   & 4701094 &  35.9  \\\\\n",
       "\\end{tabular}\n"
      ],
      "text/markdown": [
       "\n",
       "| <!--/--> | used | (Mb) | gc trigger | (Mb) | max used | (Mb) | \n",
       "|---|---|\n",
       "| Ncells | 1511129 | 80.8    | 2637877 | 140.9   | 2637877 | 140.9   | \n",
       "| Vcells | 2379382 | 18.2    | 4701432 |  35.9   | 4701094 |  35.9   | \n",
       "\n",
       "\n"
      ],
      "text/plain": [
       "       used    (Mb) gc trigger (Mb)  max used (Mb) \n",
       "Ncells 1511129 80.8 2637877    140.9 2637877  140.9\n",
       "Vcells 2379382 18.2 4701432     35.9 4701094   35.9"
      ]
     },
     "metadata": {},
     "output_type": "display_data"
    },
    {
     "name": "stderr",
     "output_type": "stream",
     "text": [
      "Warning message:\n",
      "“Missing column names filled in: 'X1' [1]”Parsed with column specification:\n",
      "cols(\n",
      "  .default = col_double(),\n",
      "  X1 = col_integer(),\n",
      "  item_id = col_character(),\n",
      "  category_name = col_integer(),\n",
      "  city = col_integer(),\n",
      "  deal_probability = col_character(),\n",
      "  description = col_character(),\n",
      "  image_top_1 = col_integer(),\n",
      "  item_seq_number = col_integer(),\n",
      "  param_1 = col_integer(),\n",
      "  param_2 = col_integer(),\n",
      "  param_3 = col_integer(),\n",
      "  parent_category_name = col_integer(),\n",
      "  region = col_integer(),\n",
      "  title = col_character(),\n",
      "  user_id = col_integer(),\n",
      "  user_type = col_integer(),\n",
      "  reg_Time_zone = col_integer(),\n",
      "  n_user_items = col_integer(),\n",
      "  Weekday = col_integer(),\n",
      "  img_label = col_character()\n",
      "  # ... with 24 more columns\n",
      ")\n",
      "See spec(...) for full column specifications.\n",
      "Warning message:\n",
      "“Missing column names filled in: 'X1' [1]”Parsed with column specification:\n",
      "cols(\n",
      "  X1 = col_integer(),\n",
      "  item_id = col_character(),\n",
      "  deal_probability = col_double()\n",
      ")\n"
     ]
    }
   ],
   "source": [
    "cat(\"Loading data...\\n\")\n",
    "num = 1000\n",
    "tr <- read_csv(\"../input/att_train.csv\", n_max = num) \n",
    "#te <- read_csv(\"../input/att_test.csv\", n_max = num)\n",
    "tri <- 1:nrow(tr)\n",
    "rm(tr);gc()\n",
    "\n",
    "tr_te <- read_csv(\"/media/extend/cache/total_0_1503424.csv\", n_max = num * 2) %>%\n",
    "    select(-X1, -deal_probability)\n",
    "y <- read_csv(\"/media/extend/cache/total_y_0_1503424.csv\", n_max = num)$deal_probability"
   ]
  },
  {
   "cell_type": "code",
   "execution_count": 58,
   "metadata": {},
   "outputs": [],
   "source": [
    "catcols = c('user_id', 'city', 'region', \n",
    "            'parent_category_name', 'category_name',\n",
    "            'param_1','param_2','param_3',\n",
    "            'user_type', 'Weekday','img_label')\n",
    "for (col in catcols){\n",
    "    tr_te[[col]] <- ifelse(is.na(tr_te[[col]]), 'none', tr_te[[col]])\n",
    "}"
   ]
  },
  {
   "cell_type": "code",
   "execution_count": 59,
   "metadata": {
    "scrolled": true
   },
   "outputs": [
    {
     "name": "stderr",
     "output_type": "stream",
     "text": [
      "Warning message in is.na(image):\n",
      "“is.na() applied to non-(list or vector) of type 'closure'”Warning message in `[<-.factor`(`*tmp*`, !is_complete(data[[var]]), value = -1):\n",
      "“invalid factor level, NA generated”Warning message in `[<-.factor`(`*tmp*`, !is_complete(data[[var]]), value = -1):\n",
      "“invalid factor level, NA generated”Warning message in `[<-.factor`(`*tmp*`, !is_complete(data[[var]]), value = -1):\n",
      "“invalid factor level, NA generated”"
     ]
    },
    {
     "name": "stdout",
     "output_type": "stream",
     "text": [
      "Observations: 2,000\n",
      "Variables: 102\n",
      "$ category_name                                             <fct> 42, 22, 2...\n",
      "$ city                                                      <fct> 462, 1314...\n",
      "$ image_top_1                                               <dbl> 13, 2723,...\n",
      "$ item_seq_number                                           <int> 2, 19, 9,...\n",
      "$ param_1                                                   <fct> 249, 122,...\n",
      "$ param_2                                                   <fct> 112, 112,...\n",
      "$ param_3                                                   <fct> 1217, 121...\n",
      "$ parent_category_name                                      <fct> 4, 2, 0, ...\n",
      "$ price                                                     <dbl> 5.992000,...\n",
      "$ region                                                    <fct> 19, 16, 1...\n",
      "$ user_id                                                   <fct> 884270, 2...\n",
      "$ user_type                                                 <fct> 1, 1, 1, ...\n",
      "$ latitude                                                  <dbl> 56.84, 53...\n",
      "$ longitude                                                 <dbl> 60.60, 50...\n",
      "$ reg_dense                                                 <dbl> 3.0940, 4...\n",
      "$ rural                                                     <dbl> 16.1, 19....\n",
      "$ reg_Time_zone                                             <int> 6, 4, 2, ...\n",
      "$ reg_Population                                            <dbl> 15.280, 1...\n",
      "$ reg_Urban                                                 <dbl> 83.9, 80....\n",
      "$ avg_days_up_user                                          <dbl> 2.197225,...\n",
      "$ avg_times_up_user                                         <dbl> 1.0986123...\n",
      "$ n_user_items                                              <dbl> 1.0986123...\n",
      "$ population                                                <dbl> 14.190, 1...\n",
      "$ Weekday                                                   <fct> 1, 6, 0, ...\n",
      "$ whratio                                                   <dbl> 1.3410, 1...\n",
      "$ area                                                      <dbl> 12.055, 1...\n",
      "$ laplacian                                                 <dbl> 408.5, 10...\n",
      "$ colorfull                                                 <dbl> 83.250, 4...\n",
      "$ brightness                                                <dbl> 104.70, 9...\n",
      "$ median                                                    <dbl> 85, 81, 2...\n",
      "$ rms                                                       <dbl> 121.40, 1...\n",
      "$ stddev                                                    <dbl> 61.38, 57...\n",
      "$ resnet_conf                                               <dbl> 0.1864, 0...\n",
      "$ xception_conf                                             <dbl> 0.4040, 0...\n",
      "$ inception_conf                                            <dbl> 0.7695, 0...\n",
      "$ img_label                                                 <fct> sleeping_...\n",
      "$ desc_punc                                                 <int> 2, 3, 5, ...\n",
      "$ description_num_chars                                     <int> 58, 41, 9...\n",
      "$ description_num_words                                     <int> 7, 7, 17,...\n",
      "$ description_num_unique_words                              <int> 7, 7, 17,...\n",
      "$ description_words_vs_unique                               <dbl> 100.00, 1...\n",
      "$ description_punctuation                                   <int> 2, 3, 5, ...\n",
      "$ description_digit                                         <int> 0, 0, 0, ...\n",
      "$ description_num                                           <int> 0, 0, 0, ...\n",
      "$ description_num_letters                                   <int> 58, 41, 9...\n",
      "$ title_num_chars                                           <int> 21, 17, 1...\n",
      "$ title_num_words                                           <int> 3, 3, 2, ...\n",
      "$ title_num_unique_words                                    <int> 3, 3, 2, ...\n",
      "$ title_words_vs_unique                                     <dbl> 100, 100,...\n",
      "$ title_punctuation                                         <int> 2, 0, 0, ...\n",
      "$ title_digit                                               <int> 0, 0, 0, ...\n",
      "$ title_num                                                 <int> 0, 0, 0, ...\n",
      "$ title_num_letters                                         <int> 21, 17, 1...\n",
      "$ title_desc_len_ratio                                      <dbl> 0.36200, ...\n",
      "$ desc_num_ratio                                            <dbl> 0.00000, ...\n",
      "$ city_category_name_param_1_count                          <int> 6996, 212...\n",
      "$ city_category_name_param_1_cumcount                       <int> 0, 0, 0, ...\n",
      "$ city_category_name_param_1_nunique                        <int> 10, 11, 1...\n",
      "$ category_name_param_1_price_count                         <int> 8634, 629...\n",
      "$ category_name_param_1_price_zscore                        <dbl> 0.0009800...\n",
      "$ user_id_price_count                                       <int> 1, 1, 2, ...\n",
      "$ user_id_price_cumcount                                    <int> 0, 0, 0, ...\n",
      "$ user_id_category_name_param_1_price_count                 <int> 1, 1, 1, ...\n",
      "$ user_id_category_name_param_1_price_cumcount              <int> 0, 0, 0, ...\n",
      "$ city_category_name_param_1_price_count                    <int> 375, 188,...\n",
      "$ city_category_name_param_1_price_zscore                   <dbl> 0.0008981...\n",
      "$ category_name_param_1_description_num_chars_zscore        <dbl> -0.001890...\n",
      "$ category_name_param_1_description_num_words_zscore        <dbl> -0.014990...\n",
      "$ category_name_param_1_description_num_unique_words_zscore <dbl> -0.020430...\n",
      "$ category_name_param_1_description_words_vs_unique_zscore  <dbl> 0.09220, ...\n",
      "$ category_name_param_1_description_punctuation_zscore      <dbl> -0.024400...\n",
      "$ category_name_param_1_description_digit_zscore            <dbl> -0.067800...\n",
      "$ category_name_param_1_description_num_zscore              <dbl> -0.29640,...\n",
      "$ category_name_param_1_title_num_chars_zscore              <dbl> -0.022100...\n",
      "$ category_name_param_1_title_num_words_zscore              <dbl> -0.13870,...\n",
      "$ category_name_param_1_title_num_unique_words_zscore       <dbl> -0.13810,...\n",
      "$ category_name_param_1_title_words_vs_unique_zscore        <dbl> 0.05110, ...\n",
      "$ category_name_param_1_title_punctuation_zscore            <dbl> 2.3120, -...\n",
      "$ category_name_param_1_title_digit_zscore                  <dbl> -0.27030,...\n",
      "$ category_name_param_1_title_num_zscore                    <dbl> -0.7705, ...\n",
      "$ category_name_param_1_title_desc_len_ratio_zscore         <dbl> -0.105300...\n",
      "$ category_name_param_1_desc_num_ratio_zscore               <dbl> -7.246, -...\n",
      "$ category_name_param_1_whratio_zscore                      <dbl> 1.2720, 1...\n",
      "$ category_name_param_1_laplacian_zscore                    <dbl> -4.818e-0...\n",
      "$ category_name_param_1_colorfull_zscore                    <dbl> 0.119750,...\n",
      "$ category_name_param_1_brightness_zscore                   <dbl> -0.020460...\n",
      "$ category_name_param_1_median_zscore                       <dbl> -0.026630...\n",
      "$ category_name_param_1_rms_zscore                          <dbl> -0.018020...\n",
      "$ category_name_param_1_stddev_zscore                       <dbl> 0.066300,...\n",
      "$ category_name_param_1_resnet_conf_zscore                  <dbl> -3.8570, ...\n",
      "$ category_name_param_1_xception_conf_zscore                <dbl> -2.1430, ...\n",
      "$ category_name_param_1_inception_conf_zscore               <dbl> 1.9660, -...\n",
      "$ no_img                                                    <int> 0, 0, 0, ...\n",
      "$ no_dsc                                                    <int> 0, 0, 0, ...\n",
      "$ no_p1                                                     <int> 0, 0, 0, ...\n",
      "$ no_p2                                                     <int> 0, 0, 0, ...\n",
      "$ no_p3                                                     <int> 0, 0, 0, ...\n",
      "$ titl_capE                                                 <dbl> 0, 0, 0, ...\n",
      "$ titl_capR                                                 <dbl> 0, 0, 0, ...\n",
      "$ desc_capE                                                 <dbl> 0, 0, 0, ...\n",
      "$ desc_capR                                                 <dbl> 0, 0, 0, ...\n",
      "$ txt                                                       <chr> \"кокоби(к...\n"
     ]
    }
   ],
   "source": [
    "tr_te <- tr_te %>% \n",
    "  mutate(no_img = is.na(image) %>% as.integer(),\n",
    "         no_dsc = is.na(description) %>% as.integer(),\n",
    "         no_p1 = is.na(param_1) %>% as.integer(), \n",
    "         no_p2 = is.na(param_2) %>% as.integer(), \n",
    "         no_p3 = is.na(param_3) %>% as.integer(),\n",
    "         titl_capE = str_count(title, \"[A-Z]\"),\n",
    "         titl_capR = str_count(title, \"[А-Я]\"),\n",
    "         desc_capE = str_count(description, \"[A-Z]\"),\n",
    "         desc_capR = str_count(description, \"[А-Я]\"),\n",
    "         user_type = factor(user_type),\n",
    "         category_name = factor(category_name),\n",
    "         parent_category_name = factor(parent_category_name), \n",
    "         region = factor(region),\n",
    "         img_label = factor(img_label),\n",
    "         param_1 = factor(param_1),\n",
    "         param_2 = factor(param_2),\n",
    "         param_3 = factor(param_3) %>% fct_lump(prop = 0.00005),\n",
    "         city =  factor(city) %>% fct_lump(prop = 0.0003),\n",
    "         user_id = factor(user_id) %>% fct_lump(prop = 0.000025),\n",
    "         Weekday = factor(Weekday),\n",
    "         n_user_items = log1p(n_user_items),\n",
    "         avg_days_up_user = log1p(avg_days_up_user),\n",
    "         avg_times_up_user = log1p(avg_times_up_user),\n",
    "         txt = paste(title, description, sep = \" \"))%>% \n",
    "  select(-item_id, -title, -description) %>% \n",
    "  replace_na(list(image_top_1 = -1, price = -1, \n",
    "                  param_1   = -1, param_2 = -1, param_3 = -1, \n",
    "                  titl_len  = 0,  desc_len  = 0,\n",
    "                  titl_capE = 0,  titl_capR = 0, \n",
    "                  titl_lowE = 0,  titl_lowR = 0, \n",
    "                  desc_cap  = 0,\n",
    "                  titl_pun  = 0,  desc_pun = 0,\n",
    "                  titl_dig  = 0,  desc_dig = 0,\n",
    "                  desc_capE = 0,\n",
    "                  desc_capR = 0)) %T>% \n",
    "  glimpse()"
   ]
  },
  {
   "cell_type": "code",
   "execution_count": 60,
   "metadata": {},
   "outputs": [],
   "source": [
    "for (col in colnames(tr_te)){\n",
    "    cnt_zero = sum(is.na(tr_te[col]))\n",
    "    if(cnt_zero > 0){\n",
    "        #cat(col, cnt_zero, \"\\n\")\n",
    "        tr_te[[col]] <- ifelse(is.na(tr_te[[col]]), 0, tr_te[[col]])\n",
    "    }  \n",
    "}\n",
    "    #sum(is.na(tr_te))"
   ]
  },
  {
   "cell_type": "code",
   "execution_count": 61,
   "metadata": {},
   "outputs": [],
   "source": [
    "n <- nrow(tr_te)\n",
    "nlevels <- sapply(tr_te[catcols], nlevels)\n",
    "i <- rep(seq_len(n), ncol(tr_te[catcols]))\n",
    "j <- unlist(lapply(tr_te[catcols], as.integer)) +\n",
    "     rep(cumsum(c(0, head(nlevels, -1))), each = n)\n",
    "x <- 1\n",
    "sparse_cats <- sparseMatrix(i = i, j = j, x = x)"
   ]
  },
  {
   "cell_type": "code",
   "execution_count": 62,
   "metadata": {},
   "outputs": [
    {
     "data": {
      "text/plain": [
       "278 kB"
      ]
     },
     "metadata": {},
     "output_type": "display_data"
    }
   ],
   "source": [
    "object_size(sparse_cats)"
   ]
  },
  {
   "cell_type": "code",
   "execution_count": 12,
   "metadata": {},
   "outputs": [],
   "source": []
  },
  {
   "cell_type": "code",
   "execution_count": 63,
   "metadata": {},
   "outputs": [],
   "source": [
    "spdf <- tr_te %>% \n",
    "    sparse.model.matrix( ~ . - 1, .)"
   ]
  },
  {
   "cell_type": "code",
   "execution_count": null,
   "metadata": {
    "scrolled": true
   },
   "outputs": [],
   "source": [
    "rm(tr, te); gc()"
   ]
  },
  {
   "cell_type": "code",
   "execution_count": 64,
   "metadata": {
    "scrolled": false
   },
   "outputs": [
    {
     "name": "stdout",
     "output_type": "stream",
     "text": [
      "Parsing text...\n"
     ]
    },
    {
     "data": {
      "text/html": [
       "<table>\n",
       "<thead><tr><th></th><th scope=col>used</th><th scope=col>(Mb)</th><th scope=col>gc trigger</th><th scope=col>(Mb)</th><th scope=col>max used</th><th scope=col>(Mb)</th></tr></thead>\n",
       "<tbody>\n",
       "\t<tr><th scope=row>Ncells</th><td>1523591</td><td>81.4   </td><td>2637877</td><td>140.9  </td><td>2637877</td><td>140.9  </td></tr>\n",
       "\t<tr><th scope=row>Vcells</th><td>2721196</td><td>20.8   </td><td>5721718</td><td> 43.7  </td><td>5694450</td><td> 43.5  </td></tr>\n",
       "</tbody>\n",
       "</table>\n"
      ],
      "text/latex": [
       "\\begin{tabular}{r|llllll}\n",
       "  & used & (Mb) & gc trigger & (Mb) & max used & (Mb)\\\\\n",
       "\\hline\n",
       "\tNcells & 1523591 & 81.4    & 2637877 & 140.9   & 2637877 & 140.9  \\\\\n",
       "\tVcells & 2721196 & 20.8    & 5721718 &  43.7   & 5694450 &  43.5  \\\\\n",
       "\\end{tabular}\n"
      ],
      "text/markdown": [
       "\n",
       "| <!--/--> | used | (Mb) | gc trigger | (Mb) | max used | (Mb) | \n",
       "|---|---|\n",
       "| Ncells | 1523591 | 81.4    | 2637877 | 140.9   | 2637877 | 140.9   | \n",
       "| Vcells | 2721196 | 20.8    | 5721718 |  43.7   | 5694450 |  43.5   | \n",
       "\n",
       "\n"
      ],
      "text/plain": [
       "       used    (Mb) gc trigger (Mb)  max used (Mb) \n",
       "Ncells 1523591 81.4 2637877    140.9 2637877  140.9\n",
       "Vcells 2721196 20.8 5721718     43.7 5694450   43.5"
      ]
     },
     "metadata": {},
     "output_type": "display_data"
    }
   ],
   "source": [
    "#---------------------------\n",
    "cat(\"Parsing text...\\n\")\n",
    "it <- tr_te %$%\n",
    "  str_to_lower(txt) %>%\n",
    "  str_replace_all(\"[^[:alpha:]]\", \" \") %>%\n",
    "  str_replace_all(\"\\\\s+\", \" \") %>%\n",
    "  tokenize_word_stems(language = \"russian\") %>% \n",
    "  itoken()\n",
    "\n",
    "vect <- create_vocabulary(it, ngram = c(1, 1), stopwords = stopwords(\"ru\")) %>%\n",
    "  prune_vocabulary(term_count_min = 3, doc_proportion_max = 0.4, vocab_term_max = 12500) %>% \n",
    "  vocab_vectorizer()\n",
    "\n",
    "m_tfidf <- TfIdf$new(norm = \"l2\", sublinear_tf = T)\n",
    "tfidf <-  create_dtm(it, vect) %>% \n",
    "  fit_transform(m_tfidf)\n",
    "\n",
    "rm(it, vect, m_tfidf); gc()"
   ]
  },
  {
   "cell_type": "code",
   "execution_count": 66,
   "metadata": {},
   "outputs": [
    {
     "name": "stdout",
     "output_type": "stream",
     "text": [
      "Preparing data...\n"
     ]
    },
    {
     "data": {
      "text/html": [
       "<ol class=list-inline>\n",
       "\t<li>2000</li>\n",
       "\t<li>6132</li>\n",
       "</ol>\n"
      ],
      "text/latex": [
       "\\begin{enumerate*}\n",
       "\\item 2000\n",
       "\\item 6132\n",
       "\\end{enumerate*}\n"
      ],
      "text/markdown": [
       "1. 2000\n",
       "2. 6132\n",
       "\n",
       "\n"
      ],
      "text/plain": [
       "[1] 2000 6132"
      ]
     },
     "metadata": {},
     "output_type": "display_data"
    },
    {
     "data": {
      "text/html": [
       "<table>\n",
       "<thead><tr><th></th><th scope=col>used</th><th scope=col>(Mb)</th><th scope=col>gc trigger</th><th scope=col>(Mb)</th><th scope=col>max used</th><th scope=col>(Mb)</th></tr></thead>\n",
       "<tbody>\n",
       "\t<tr><th scope=row>Ncells</th><td>1511952</td><td>80.8   </td><td>2637877</td><td>140.9  </td><td>2637877</td><td>140.9  </td></tr>\n",
       "\t<tr><th scope=row>Vcells</th><td>2360823</td><td>18.1   </td><td>5721718</td><td> 43.7  </td><td>5721654</td><td> 43.7  </td></tr>\n",
       "</tbody>\n",
       "</table>\n"
      ],
      "text/latex": [
       "\\begin{tabular}{r|llllll}\n",
       "  & used & (Mb) & gc trigger & (Mb) & max used & (Mb)\\\\\n",
       "\\hline\n",
       "\tNcells & 1511952 & 80.8    & 2637877 & 140.9   & 2637877 & 140.9  \\\\\n",
       "\tVcells & 2360823 & 18.1    & 5721718 &  43.7   & 5721654 &  43.7  \\\\\n",
       "\\end{tabular}\n"
      ],
      "text/markdown": [
       "\n",
       "| <!--/--> | used | (Mb) | gc trigger | (Mb) | max used | (Mb) | \n",
       "|---|---|\n",
       "| Ncells | 1511952 | 80.8    | 2637877 | 140.9   | 2637877 | 140.9   | \n",
       "| Vcells | 2360823 | 18.1    | 5721718 |  43.7   | 5721654 |  43.7   | \n",
       "\n",
       "\n"
      ],
      "text/plain": [
       "       used    (Mb) gc trigger (Mb)  max used (Mb) \n",
       "Ncells 1511952 80.8 2637877    140.9 2637877  140.9\n",
       "Vcells 2360823 18.1 5721718     43.7 5721654   43.7"
      ]
     },
     "metadata": {},
     "output_type": "display_data"
    }
   ],
   "source": [
    "\n",
    "cat(\"Preparing data...\\n\")\n",
    "X <- tr_te %>% \n",
    "  select(-txt) %>% \n",
    "  sparse.model.matrix(~ . - 1, .) %>% \n",
    "  cbind(tfidf)\n",
    "dim(X)\n",
    "\n",
    "dtest <- xgb.DMatrix(data = X[-tri, ])\n",
    "X <- X[tri, ]; gc()\n",
    "cols <- colnames(X)"
   ]
  },
  {
   "cell_type": "code",
   "execution_count": null,
   "metadata": {},
   "outputs": [],
   "source": []
  },
  {
   "cell_type": "code",
   "execution_count": 67,
   "metadata": {},
   "outputs": [],
   "source": [
    "idx = seq(1, length(y))\n",
    "idx = sample(idx)\n",
    "fold = 5\n",
    "folds <- cut(idx,breaks=fold,labels=FALSE)"
   ]
  },
  {
   "cell_type": "code",
   "execution_count": 68,
   "metadata": {
    "scrolled": true
   },
   "outputs": [
    {
     "name": "stdout",
     "output_type": "stream",
     "text": [
      "[1]\ttrain-rmse:0.427887\tval-rmse:0.422311 \n",
      "Multiple eval metrics are present. Will use val_rmse for early stopping.\n",
      "Will train until val_rmse hasn't improved in 10 rounds.\n",
      "\n",
      "[11]\ttrain-rmse:0.324065\tval-rmse:0.325286 \n",
      "[21]\ttrain-rmse:0.273450\tval-rmse:0.282526 \n",
      "[31]\ttrain-rmse:0.249698\tval-rmse:0.266069 \n",
      "[41]\ttrain-rmse:0.237859\tval-rmse:0.260953 \n",
      "[51]\ttrain-rmse:0.229359\tval-rmse:0.258153 \n",
      "[61]\ttrain-rmse:0.223122\tval-rmse:0.256652 \n",
      "[71]\ttrain-rmse:0.218990\tval-rmse:0.256340 \n",
      "[81]\ttrain-rmse:0.214875\tval-rmse:0.256491 \n",
      "Stopping. Best iteration:\n",
      "[72]\ttrain-rmse:0.218315\tval-rmse:0.256298\n",
      "\n"
     ]
    }
   ],
   "source": [
    "p <- list(objective = \"reg:logistic\",\n",
    "          booster = \"gbtree\",\n",
    "          eval_metric = \"rmse\",\n",
    "          nthread = 6,\n",
    "          eta = 0.05,\n",
    "          max_depth = 18,\n",
    "          min_child_weight = 11,\n",
    "          gamma = 0,\n",
    "          subsample = 0.85,\n",
    "          colsample_bytree = 0.7,\n",
    "          alpha = 2.0,\n",
    "          lambda = 0,\n",
    "          nrounds = 2000)\n",
    "\n",
    "i = 1\n",
    "#Segement your data by fold using the which() function \n",
    "testIndexes <- which(folds==i,arr.ind=TRUE)\n",
    "\n",
    "testX <- X[testIndexes, ]\n",
    "testY <- y[testIndexes]\n",
    "\n",
    "trainX <- X[-testIndexes, ]\n",
    "trainY <- y[-testIndexes]\n",
    "#Use the test and train data partitions however you desire...\n",
    "\n",
    "dtrain <- xgb.DMatrix(data = trainX, label = trainY)\n",
    "dval <- xgb.DMatrix(data = testX, label = testY)\n",
    "m_xgb <- xgb.train(p, dtrain, p$nrounds, list(train = dtrain ,val = dval), print_every_n = 10, early_stopping_rounds = 10)\n"
   ]
  },
  {
   "cell_type": "code",
   "execution_count": null,
   "metadata": {},
   "outputs": [],
   "source": [
    "?xgb.train"
   ]
  },
  {
   "cell_type": "code",
   "execution_count": 1,
   "metadata": {},
   "outputs": [],
   "source": [
    "catcols = c('user_id', 'city', 'region', \n",
    "            'parent_category_name', 'category_name',\n",
    "            'param_1','param_2','param_3',\n",
    "            'user_type')"
   ]
  },
  {
   "cell_type": "code",
   "execution_count": 2,
   "metadata": {},
   "outputs": [
    {
     "data": {
      "text/html": [
       "<ol class=list-inline>\n",
       "\t<li>'user_id'</li>\n",
       "\t<li>'city'</li>\n",
       "\t<li>'region'</li>\n",
       "\t<li>'parent_category_name'</li>\n",
       "\t<li>'category_name'</li>\n",
       "\t<li>'param_1'</li>\n",
       "\t<li>'param_2'</li>\n",
       "\t<li>'param_3'</li>\n",
       "\t<li>'user_type'</li>\n",
       "\t<li>'tmp'</li>\n",
       "</ol>\n"
      ],
      "text/latex": [
       "\\begin{enumerate*}\n",
       "\\item 'user\\_id'\n",
       "\\item 'city'\n",
       "\\item 'region'\n",
       "\\item 'parent\\_category\\_name'\n",
       "\\item 'category\\_name'\n",
       "\\item 'param\\_1'\n",
       "\\item 'param\\_2'\n",
       "\\item 'param\\_3'\n",
       "\\item 'user\\_type'\n",
       "\\item 'tmp'\n",
       "\\end{enumerate*}\n"
      ],
      "text/markdown": [
       "1. 'user_id'\n",
       "2. 'city'\n",
       "3. 'region'\n",
       "4. 'parent_category_name'\n",
       "5. 'category_name'\n",
       "6. 'param_1'\n",
       "7. 'param_2'\n",
       "8. 'param_3'\n",
       "9. 'user_type'\n",
       "10. 'tmp'\n",
       "\n",
       "\n"
      ],
      "text/plain": [
       " [1] \"user_id\"              \"city\"                 \"region\"              \n",
       " [4] \"parent_category_name\" \"category_name\"        \"param_1\"             \n",
       " [7] \"param_2\"              \"param_3\"              \"user_type\"           \n",
       "[10] \"tmp\"                 "
      ]
     },
     "metadata": {},
     "output_type": "display_data"
    }
   ],
   "source": [
    "c(catcols, 'tmp')"
   ]
  },
  {
   "cell_type": "code",
   "execution_count": null,
   "metadata": {},
   "outputs": [],
   "source": [
    "?read_csv"
   ]
  },
  {
   "cell_type": "code",
   "execution_count": null,
   "metadata": {},
   "outputs": [],
   "source": []
  }
 ],
 "metadata": {
  "kernelspec": {
   "display_name": "R",
   "language": "R",
   "name": "ir"
  },
  "language_info": {
   "codemirror_mode": "r",
   "file_extension": ".r",
   "mimetype": "text/x-r-source",
   "name": "R",
   "pygments_lexer": "r",
   "version": "3.3.3"
  }
 },
 "nbformat": 4,
 "nbformat_minor": 2
}
